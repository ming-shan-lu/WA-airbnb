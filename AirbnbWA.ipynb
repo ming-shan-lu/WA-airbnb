{
 "cells": [
  {
   "cell_type": "code",
   "execution_count": 2,
   "id": "cc7c45da",
   "metadata": {},
   "outputs": [],
   "source": [
    "# import necessary libraries\n",
    "import pandas as pd\n",
    "import numpy as np\n",
    "import matplotlib.pylab as plt\n",
    "import seaborn as sns\n",
    "plt.style.use('ggplot')\n",
    "\n",
    "pd.set_option('display.max_columns', None)\n",
    "pd.set_option('display.max_rows', None)\n"
   ]
  },
  {
   "cell_type": "code",
   "execution_count": 3,
   "id": "7156aea4",
   "metadata": {},
   "outputs": [],
   "source": [
    "#load the dataset\n",
    "df = pd.read_csv('listings.csv')"
   ]
  },
  {
   "cell_type": "markdown",
   "id": "3dc143d3",
   "metadata": {},
   "source": [
    "# Exploratory Data Analysis"
   ]
  },
  {
   "cell_type": "code",
   "execution_count": 4,
   "id": "24bff28b",
   "metadata": {},
   "outputs": [
    {
     "data": {
      "text/html": [
       "<div>\n",
       "<style scoped>\n",
       "    .dataframe tbody tr th:only-of-type {\n",
       "        vertical-align: middle;\n",
       "    }\n",
       "\n",
       "    .dataframe tbody tr th {\n",
       "        vertical-align: top;\n",
       "    }\n",
       "\n",
       "    .dataframe thead th {\n",
       "        text-align: right;\n",
       "    }\n",
       "</style>\n",
       "<table border=\"1\" class=\"dataframe\">\n",
       "  <thead>\n",
       "    <tr style=\"text-align: right;\">\n",
       "      <th></th>\n",
       "      <th>id</th>\n",
       "      <th>name</th>\n",
       "      <th>host_id</th>\n",
       "      <th>host_name</th>\n",
       "      <th>neighbourhood_group</th>\n",
       "      <th>neighbourhood</th>\n",
       "      <th>latitude</th>\n",
       "      <th>longitude</th>\n",
       "      <th>room_type</th>\n",
       "      <th>price</th>\n",
       "      <th>minimum_nights</th>\n",
       "      <th>number_of_reviews</th>\n",
       "      <th>last_review</th>\n",
       "      <th>reviews_per_month</th>\n",
       "      <th>calculated_host_listings_count</th>\n",
       "      <th>availability_365</th>\n",
       "      <th>number_of_reviews_ltm</th>\n",
       "      <th>license</th>\n",
       "    </tr>\n",
       "  </thead>\n",
       "  <tbody>\n",
       "    <tr>\n",
       "      <th>0</th>\n",
       "      <td>2115.0</td>\n",
       "      <td>Bed and breakfast in Como</td>\n",
       "      <td>2313</td>\n",
       "      <td>Helen</td>\n",
       "      <td>NaN</td>\n",
       "      <td>SOUTH PERTH</td>\n",
       "      <td>-32.006570</td>\n",
       "      <td>115.865150</td>\n",
       "      <td>Private room</td>\n",
       "      <td>140</td>\n",
       "      <td>1</td>\n",
       "      <td>132</td>\n",
       "      <td>29/5/2023</td>\n",
       "      <td>1.02</td>\n",
       "      <td>1</td>\n",
       "      <td>148</td>\n",
       "      <td>59</td>\n",
       "      <td>NaN</td>\n",
       "    </tr>\n",
       "    <tr>\n",
       "      <th>1</th>\n",
       "      <td>59311.0</td>\n",
       "      <td>Home in Perth</td>\n",
       "      <td>284743</td>\n",
       "      <td>Rudy And Lina</td>\n",
       "      <td>NaN</td>\n",
       "      <td>GOSNELLS</td>\n",
       "      <td>-32.076280</td>\n",
       "      <td>115.932000</td>\n",
       "      <td>Private room</td>\n",
       "      <td>65</td>\n",
       "      <td>1</td>\n",
       "      <td>7</td>\n",
       "      <td>28/4/2018</td>\n",
       "      <td>0.05</td>\n",
       "      <td>1</td>\n",
       "      <td>362</td>\n",
       "      <td>0</td>\n",
       "      <td>NaN</td>\n",
       "    </tr>\n",
       "    <tr>\n",
       "      <th>2</th>\n",
       "      <td>65261.0</td>\n",
       "      <td>Guest suite in Fremantle</td>\n",
       "      <td>319052</td>\n",
       "      <td>Suzanne Elizabeth</td>\n",
       "      <td>NaN</td>\n",
       "      <td>FREMANTLE</td>\n",
       "      <td>-32.047880</td>\n",
       "      <td>115.764180</td>\n",
       "      <td>Entire home/apt</td>\n",
       "      <td>70</td>\n",
       "      <td>2</td>\n",
       "      <td>310</td>\n",
       "      <td>3/6/2023</td>\n",
       "      <td>2.13</td>\n",
       "      <td>1</td>\n",
       "      <td>151</td>\n",
       "      <td>36</td>\n",
       "      <td>NaN</td>\n",
       "    </tr>\n",
       "    <tr>\n",
       "      <th>3</th>\n",
       "      <td>69534.0</td>\n",
       "      <td>Bed and breakfast in Perth</td>\n",
       "      <td>348191</td>\n",
       "      <td>Teresa</td>\n",
       "      <td>NaN</td>\n",
       "      <td>JOONDALUP</td>\n",
       "      <td>-31.842950</td>\n",
       "      <td>115.804670</td>\n",
       "      <td>Private room</td>\n",
       "      <td>120</td>\n",
       "      <td>3</td>\n",
       "      <td>12</td>\n",
       "      <td>19/12/2022</td>\n",
       "      <td>0.17</td>\n",
       "      <td>1</td>\n",
       "      <td>227</td>\n",
       "      <td>2</td>\n",
       "      <td>NaN</td>\n",
       "    </tr>\n",
       "    <tr>\n",
       "      <th>4</th>\n",
       "      <td>88185.0</td>\n",
       "      <td>Home in Perth</td>\n",
       "      <td>474393</td>\n",
       "      <td>Anne</td>\n",
       "      <td>NaN</td>\n",
       "      <td>VINCENT</td>\n",
       "      <td>-31.942358</td>\n",
       "      <td>115.858208</td>\n",
       "      <td>Private room</td>\n",
       "      <td>75</td>\n",
       "      <td>2</td>\n",
       "      <td>218</td>\n",
       "      <td>19/6/2023</td>\n",
       "      <td>1.47</td>\n",
       "      <td>2</td>\n",
       "      <td>84</td>\n",
       "      <td>19</td>\n",
       "      <td>NaN</td>\n",
       "    </tr>\n",
       "  </tbody>\n",
       "</table>\n",
       "</div>"
      ],
      "text/plain": [
       "        id                         name  host_id          host_name  \\\n",
       "0   2115.0   Bed and breakfast in Como      2313              Helen   \n",
       "1  59311.0               Home in Perth    284743      Rudy And Lina   \n",
       "2  65261.0    Guest suite in Fremantle    319052  Suzanne Elizabeth   \n",
       "3  69534.0  Bed and breakfast in Perth    348191             Teresa   \n",
       "4  88185.0               Home in Perth    474393               Anne   \n",
       "\n",
       "   neighbourhood_group neighbourhood   latitude   longitude        room_type  \\\n",
       "0                  NaN   SOUTH PERTH -32.006570  115.865150     Private room   \n",
       "1                  NaN      GOSNELLS -32.076280  115.932000     Private room   \n",
       "2                  NaN     FREMANTLE -32.047880  115.764180  Entire home/apt   \n",
       "3                  NaN     JOONDALUP -31.842950  115.804670     Private room   \n",
       "4                  NaN       VINCENT -31.942358  115.858208     Private room   \n",
       "\n",
       "   price  minimum_nights  number_of_reviews last_review  reviews_per_month  \\\n",
       "0    140               1                132   29/5/2023               1.02   \n",
       "1     65               1                  7   28/4/2018               0.05   \n",
       "2     70               2                310    3/6/2023               2.13   \n",
       "3    120               3                 12  19/12/2022               0.17   \n",
       "4     75               2                218   19/6/2023               1.47   \n",
       "\n",
       "   calculated_host_listings_count  availability_365  number_of_reviews_ltm  \\\n",
       "0                               1               148                     59   \n",
       "1                               1               362                      0   \n",
       "2                               1               151                     36   \n",
       "3                               1               227                      2   \n",
       "4                               2                84                     19   \n",
       "\n",
       "   license  \n",
       "0      NaN  \n",
       "1      NaN  \n",
       "2      NaN  \n",
       "3      NaN  \n",
       "4      NaN  "
      ]
     },
     "execution_count": 4,
     "metadata": {},
     "output_type": "execute_result"
    }
   ],
   "source": [
    "# Check the first entries of the dataset\n",
    "df.head()"
   ]
  },
  {
   "cell_type": "code",
   "execution_count": 5,
   "id": "6ea686d8",
   "metadata": {},
   "outputs": [
    {
     "data": {
      "text/plain": [
       "(11507, 18)"
      ]
     },
     "execution_count": 5,
     "metadata": {},
     "output_type": "execute_result"
    }
   ],
   "source": [
    "df.shape"
   ]
  },
  {
   "cell_type": "code",
   "execution_count": 6,
   "id": "6a3a3340",
   "metadata": {},
   "outputs": [
    {
     "name": "stdout",
     "output_type": "stream",
     "text": [
      "<class 'pandas.core.frame.DataFrame'>\n",
      "RangeIndex: 11507 entries, 0 to 11506\n",
      "Data columns (total 18 columns):\n",
      " #   Column                          Non-Null Count  Dtype  \n",
      "---  ------                          --------------  -----  \n",
      " 0   id                              11507 non-null  float64\n",
      " 1   name                            11507 non-null  object \n",
      " 2   host_id                         11507 non-null  int64  \n",
      " 3   host_name                       11507 non-null  object \n",
      " 4   neighbourhood_group             0 non-null      float64\n",
      " 5   neighbourhood                   11507 non-null  object \n",
      " 6   latitude                        11507 non-null  float64\n",
      " 7   longitude                       11507 non-null  float64\n",
      " 8   room_type                       11507 non-null  object \n",
      " 9   price                           11507 non-null  int64  \n",
      " 10  minimum_nights                  11507 non-null  int64  \n",
      " 11  number_of_reviews               11507 non-null  int64  \n",
      " 12  last_review                     10427 non-null  object \n",
      " 13  reviews_per_month               10427 non-null  float64\n",
      " 14  calculated_host_listings_count  11507 non-null  int64  \n",
      " 15  availability_365                11507 non-null  int64  \n",
      " 16  number_of_reviews_ltm           11507 non-null  int64  \n",
      " 17  license                         0 non-null      float64\n",
      "dtypes: float64(6), int64(7), object(5)\n",
      "memory usage: 1.6+ MB\n"
     ]
    }
   ],
   "source": [
    "df.info()"
   ]
  },
  {
   "cell_type": "code",
   "execution_count": 7,
   "id": "431c6487",
   "metadata": {},
   "outputs": [],
   "source": [
    "# change 'last_reviews' data types from object to datetime\n",
    "df['last_review'] = pd.to_datetime(df['last_review'], dayfirst = True)"
   ]
  },
  {
   "cell_type": "code",
   "execution_count": 8,
   "id": "82b70d1a",
   "metadata": {},
   "outputs": [
    {
     "data": {
      "text/plain": [
       "id                                    0\n",
       "name                                  0\n",
       "host_id                               0\n",
       "host_name                             0\n",
       "neighbourhood_group               11507\n",
       "neighbourhood                         0\n",
       "latitude                              0\n",
       "longitude                             0\n",
       "room_type                             0\n",
       "price                                 0\n",
       "minimum_nights                        0\n",
       "number_of_reviews                     0\n",
       "last_review                        1080\n",
       "reviews_per_month                  1080\n",
       "calculated_host_listings_count        0\n",
       "availability_365                      0\n",
       "number_of_reviews_ltm                 0\n",
       "license                           11507\n",
       "dtype: int64"
      ]
     },
     "execution_count": 8,
     "metadata": {},
     "output_type": "execute_result"
    }
   ],
   "source": [
    "# Checking null value\n",
    "df.isnull().sum()"
   ]
  },
  {
   "cell_type": "markdown",
   "id": "803147dc",
   "metadata": {},
   "source": [
    " 'neighbourhood_group' and 'license' are empty columns"
   ]
  },
  {
   "cell_type": "code",
   "execution_count": 9,
   "id": "b1cff573",
   "metadata": {},
   "outputs": [
    {
     "data": {
      "text/plain": [
       "id                                92\n",
       "name                              92\n",
       "host_id                           92\n",
       "host_name                         92\n",
       "neighbourhood_group                0\n",
       "neighbourhood                     92\n",
       "latitude                          92\n",
       "longitude                         92\n",
       "room_type                         92\n",
       "price                             92\n",
       "minimum_nights                    92\n",
       "number_of_reviews                 92\n",
       "last_review                        0\n",
       "reviews_per_month                  0\n",
       "calculated_host_listings_count    92\n",
       "availability_365                  92\n",
       "number_of_reviews_ltm             92\n",
       "license                            0\n",
       "dtype: int64"
      ]
     },
     "execution_count": 9,
     "metadata": {},
     "output_type": "execute_result"
    }
   ],
   "source": [
    "# consider 92 listings are inactive which is less the 1 % of the dataset. I will keep them in the analysis.  \n",
    "\n",
    "df[(df['last_review'].isnull()) & \n",
    "   (df['reviews_per_month'].isnull()) &  \n",
    "   (df['number_of_reviews'] == 0) & \n",
    "   (df['availability_365']== 0)].count()"
   ]
  },
  {
   "cell_type": "code",
   "execution_count": 10,
   "id": "0812ac8b",
   "metadata": {},
   "outputs": [
    {
     "data": {
      "text/html": [
       "<div>\n",
       "<style scoped>\n",
       "    .dataframe tbody tr th:only-of-type {\n",
       "        vertical-align: middle;\n",
       "    }\n",
       "\n",
       "    .dataframe tbody tr th {\n",
       "        vertical-align: top;\n",
       "    }\n",
       "\n",
       "    .dataframe thead th {\n",
       "        text-align: right;\n",
       "    }\n",
       "</style>\n",
       "<table border=\"1\" class=\"dataframe\">\n",
       "  <thead>\n",
       "    <tr style=\"text-align: right;\">\n",
       "      <th></th>\n",
       "      <th>id</th>\n",
       "      <th>name</th>\n",
       "      <th>host_id</th>\n",
       "      <th>host_name</th>\n",
       "      <th>neighbourhood_group</th>\n",
       "      <th>neighbourhood</th>\n",
       "      <th>latitude</th>\n",
       "      <th>longitude</th>\n",
       "      <th>room_type</th>\n",
       "      <th>price</th>\n",
       "      <th>minimum_nights</th>\n",
       "      <th>number_of_reviews</th>\n",
       "      <th>last_review</th>\n",
       "      <th>reviews_per_month</th>\n",
       "      <th>calculated_host_listings_count</th>\n",
       "      <th>availability_365</th>\n",
       "      <th>number_of_reviews_ltm</th>\n",
       "      <th>license</th>\n",
       "    </tr>\n",
       "  </thead>\n",
       "  <tbody>\n",
       "  </tbody>\n",
       "</table>\n",
       "</div>"
      ],
      "text/plain": [
       "Empty DataFrame\n",
       "Columns: [id, name, host_id, host_name, neighbourhood_group, neighbourhood, latitude, longitude, room_type, price, minimum_nights, number_of_reviews, last_review, reviews_per_month, calculated_host_listings_count, availability_365, number_of_reviews_ltm, license]\n",
       "Index: []"
      ]
     },
     "execution_count": 10,
     "metadata": {},
     "output_type": "execute_result"
    }
   ],
   "source": [
    "# Check duplicate values\n",
    "df[df.duplicated()]"
   ]
  },
  {
   "cell_type": "code",
   "execution_count": 11,
   "id": "d6219673",
   "metadata": {},
   "outputs": [
    {
     "data": {
      "text/plain": [
       "host_id\n",
       "511967       126\n",
       "55410179      99\n",
       "425993564     92\n",
       "106486177     82\n",
       "15360130      79\n",
       "73686458      74\n",
       "157230313     66\n",
       "153678208     64\n",
       "34477031      64\n",
       "8766429       59\n",
       "Name: count, dtype: int64"
      ]
     },
     "execution_count": 11,
     "metadata": {},
     "output_type": "execute_result"
    }
   ],
   "source": [
    "# Check distinct host listings\n",
    "df['host_id'].value_counts().head(10)"
   ]
  },
  {
   "cell_type": "code",
   "execution_count": 12,
   "id": "22bc6dd5",
   "metadata": {},
   "outputs": [
    {
     "name": "stdout",
     "output_type": "stream",
     "text": [
      "The percentage of hosts who have listings more than 1 is: 57.35%\n"
     ]
    }
   ],
   "source": [
    "# Calculate the value counts\n",
    "value_counts = df['host_id'].value_counts()\n",
    "\n",
    "# Filter for counts greater than 1\n",
    "counts_greater_than_one = value_counts[value_counts > 1]\n",
    "\n",
    "# Calculate the percentage\n",
    "percentage = (counts_greater_than_one.sum() / len(df)) * 100\n",
    "\n",
    "print(f\"The percentage of hosts who have listings more than 1 is: {percentage:.2f}%\")\n"
   ]
  },
  {
   "cell_type": "code",
   "execution_count": 13,
   "id": "ebc45b4b",
   "metadata": {},
   "outputs": [
    {
     "name": "stdout",
     "output_type": "stream",
     "text": [
      "There are 112 areas listed in WA\n"
     ]
    }
   ],
   "source": [
    "# Check distinct areas of listings\n",
    "areas = df['neighbourhood'].nunique()\n",
    "print(f'There are {areas} areas listed in WA')"
   ]
  },
  {
   "cell_type": "code",
   "execution_count": 14,
   "id": "47ad0556",
   "metadata": {},
   "outputs": [
    {
     "data": {
      "text/plain": [
       "neighbourhood\n",
       "BUSSELTON                 1560\n",
       "AUGUSTA-MARGARET RIVER     884\n",
       "STIRLING                   676\n",
       "FREMANTLE                  552\n",
       "MANDURAH                   503\n",
       "PERTH                      493\n",
       "ALBANY                     382\n",
       "JOONDALUP                  310\n",
       "WANNEROO                   260\n",
       "BROOME                     253\n",
       "dtype: int64"
      ]
     },
     "execution_count": 14,
     "metadata": {},
     "output_type": "execute_result"
    }
   ],
   "source": [
    "# Check listings areas counts in descending order\n",
    "area_counts = df.groupby('neighbourhood').size()\n",
    "area_counts.sort_values(ascending= False).head(10)"
   ]
  },
  {
   "cell_type": "code",
   "execution_count": 15,
   "id": "eb560049",
   "metadata": {},
   "outputs": [
    {
     "data": {
      "text/plain": [
       "room_type\n",
       "Entire home/apt    9515\n",
       "Private room       1900\n",
       "Hotel room           61\n",
       "Shared room          31\n",
       "Name: count, dtype: int64"
      ]
     },
     "execution_count": 15,
     "metadata": {},
     "output_type": "execute_result"
    }
   ],
   "source": [
    "df['room_type'].value_counts()"
   ]
  },
  {
   "cell_type": "code",
   "execution_count": 16,
   "id": "e6a2c4a4",
   "metadata": {},
   "outputs": [
    {
     "data": {
      "text/plain": [
       "room_type\n",
       "Entire home/apt    82.7%\n",
       "Private room       16.5%\n",
       "Hotel room          0.5%\n",
       "Shared room         0.3%\n",
       "Name: proportion, dtype: object"
      ]
     },
     "execution_count": 16,
     "metadata": {},
     "output_type": "execute_result"
    }
   ],
   "source": [
    "df['room_type'].value_counts(normalize = True).mul(100).round(1).astype(str) + '%'     "
   ]
  },
  {
   "cell_type": "code",
   "execution_count": 17,
   "id": "59574e87",
   "metadata": {},
   "outputs": [
    {
     "data": {
      "image/png": "[encoded data removed]",
      "text/plain": [
       "<Figure size 640x480 with 1 Axes>"
      ]
     },
     "metadata": {},
     "output_type": "display_data"
    }
   ],
   "source": [
    "df['room_type'].value_counts().plot(kind = 'barh', title = 'Room Type').invert_yaxis() # descending orlder\n"
   ]
  },
  {
   "cell_type": "code",
   "execution_count": 18,
   "id": "7af5dcd8",
   "metadata": {},
   "outputs": [
    {
     "data": {
      "text/plain": [
       "264.2543669071"
      ]
     },
     "execution_count": 18,
     "metadata": {},
     "output_type": "execute_result"
    }
   ],
   "source": [
    "df['price'].mean()"
   ]
  },
  {
   "cell_type": "code",
   "execution_count": 19,
   "id": "fa3cfa49",
   "metadata": {},
   "outputs": [
    {
     "data": {
      "text/plain": [
       "room_type\n",
       "Entire home/apt    289.56\n",
       "Hotel room         210.70\n",
       "Private room       141.93\n",
       "Shared room        100.35\n",
       "Name: price, dtype: float64"
      ]
     },
     "execution_count": 19,
     "metadata": {},
     "output_type": "execute_result"
    }
   ],
   "source": [
    "df.groupby('room_type')['price'].mean().round(2)"
   ]
  },
  {
   "cell_type": "code",
   "execution_count": 20,
   "id": "b47affcd",
   "metadata": {},
   "outputs": [
    {
     "data": {
      "image/png": "[encoded data removed]",
      "text/plain": [
       "<Figure size 640x480 with 1 Axes>"
      ]
     },
     "metadata": {},
     "output_type": "display_data"
    }
   ],
   "source": [
    "df.groupby('room_type')['price'].mean().plot(kind = 'barh', title = 'Room Type price').invert_yaxis()"
   ]
  }
 ],
 "metadata": {
  "kernelspec": {
   "display_name": "Python 3 (ipykernel)",
   "language": "python",
   "name": "python3"
  },
  "language_info": {
   "codemirror_mode": {
    "name": "ipython",
    "version": 3
   },
   "file_extension": ".py",
   "mimetype": "text/x-python",
   "name": "python",
   "nbconvert_exporter": "python",
   "pygments_lexer": "ipython3",
   "version": "3.11.3"
  }
 },
 "nbformat": 4,
 "nbformat_minor": 5
}
